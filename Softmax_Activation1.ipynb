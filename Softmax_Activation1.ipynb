{
  "cells": [
    {
      "cell_type": "code",
      "execution_count": 9,
      "id": "3a91b273-da7e-4726-8bc4-a3d63a2346f1",
      "metadata": {
        "id": "3a91b273-da7e-4726-8bc4-a3d63a2346f1"
      },
      "outputs": [],
      "source": [
        "import numpy as np\n",
        "import matplotlib.pyplot as plt\n",
        "%matplotlib inline"
      ]
    },
    {
      "cell_type": "code",
      "execution_count": 29,
      "id": "ad661c90-a410-495e-a9fc-fea73fa31f16",
      "metadata": {
        "id": "ad661c90-a410-495e-a9fc-fea73fa31f16"
      },
      "outputs": [],
      "source": [
        "random_data = np.arange(-5, 25, 0.1)"
      ]
    },
    {
      "cell_type": "code",
      "execution_count": 30,
      "id": "bd2a2da3-4f13-4eeb-a43b-fb4f9cbf1c48",
      "metadata": {
        "id": "bd2a2da3-4f13-4eeb-a43b-fb4f9cbf1c48"
      },
      "outputs": [],
      "source": [
        "def visualization(function, yaxis = (-2.0, 2.0)):\n",
        "    ylim = (yaxis)\n",
        "    plt.locator_params(nbins = 8)\n",
        "    plt.xticks(fontsize = 14)\n",
        "    plt.yticks(fontsize = 14)\n",
        "    plt.axhline(lw = 1, c = 'blue')\n",
        "    plt.axvline(lw = 1, c = 'blue')\n",
        "    plt.grid(alpha = 0.4, ls = '-.')\n",
        "    plt.box(on = None)\n",
        "    plt.plot(random_data, function(random_data),c='r', lw = 6)\n",
        "    plt.show()"
      ]
    },
    {
      "cell_type": "code",
      "source": [
        "def softmax(data):\n",
        "    return np.exp(data) / np.sum(np.exp(data), axis=0)"
      ],
      "metadata": {
        "id": "SyHarnCru062"
      },
      "id": "SyHarnCru062",
      "execution_count": 31,
      "outputs": []
    },
    {
      "cell_type": "code",
      "execution_count": 32,
      "id": "7e798812-d8aa-459e-bae8-169bb4e119bd",
      "metadata": {
        "colab": {
          "base_uri": "https://localhost:8080/",
          "height": 269
        },
        "id": "7e798812-d8aa-459e-bae8-169bb4e119bd",
        "outputId": "8065e6cd-9b67-49f0-a425-75f9ca2ce00a"
      },
      "outputs": [
        {
          "output_type": "display_data",
          "data": {
            "image/png": "[encoded data removed]",
            "text/plain": [
              "<Figure size 432x288 with 1 Axes>"
            ]
          },
          "metadata": {
            "needs_background": "light"
          }
        }
      ],
      "source": [
        "visualization(softmax ,yaxis = (-2.0, 5.0))"
      ]
    }
  ],
  "metadata": {
    "kernelspec": {
      "display_name": "Python 3",
      "language": "python",
      "name": "python3"
    },
    "language_info": {
      "codemirror_mode": {
        "name": "ipython",
        "version": 3
      },
      "file_extension": ".py",
      "mimetype": "text/x-python",
      "name": "python",
      "nbconvert_exporter": "python",
      "pygments_lexer": "ipython3",
      "version": "3.7.11"
    },
    "colab": {
      "name": "Softmax_Activation1.ipynb",
      "provenance": []
    }
  },
  "nbformat": 4,
  "nbformat_minor": 5
}