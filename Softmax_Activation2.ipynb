{
  "nbformat": 4,
  "nbformat_minor": 0,
  "metadata": {
    "colab": {
      "name": "Softmax_Activation2.ipynb",
      "provenance": [],
      "collapsed_sections": []
    },
    "kernelspec": {
      "name": "python3",
      "display_name": "Python 3"
    },
    "language_info": {
      "name": "python"
    }
  },
  "cells": [
    {
      "cell_type": "code",
      "execution_count": 93,
      "metadata": {
        "id": "0d7XPpOC416f"
      },
      "outputs": [],
      "source": [
        "import numpy as np\n",
        "import matplotlib.pyplot as plt\n",
        "%matplotlib inline\n",
        "np.set_printoptions(suppress = True)"
      ]
    },
    {
      "cell_type": "code",
      "source": [
        "Data = np.arange(-2, 50, 0.1)"
      ],
      "metadata": {
        "id": "qGyAHwwr5DbS"
      },
      "execution_count": 94,
      "outputs": []
    },
    {
      "cell_type": "code",
      "source": [
        "Data"
      ],
      "metadata": {
        "colab": {
          "base_uri": "https://localhost:8080/"
        },
        "id": "cWi6CBXX6PtK",
        "outputId": "c0c8a515-efa1-4551-bc5d-4f171c0f9996"
      },
      "execution_count": 95,
      "outputs": [
        {
          "output_type": "execute_result",
          "data": {
            "text/plain": [
              "array([-2. , -1.9, -1.8, -1.7, -1.6, -1.5, -1.4, -1.3, -1.2, -1.1, -1. ,\n",
              "       -0.9, -0.8, -0.7, -0.6, -0.5, -0.4, -0.3, -0.2, -0.1,  0. ,  0.1,\n",
              "        0.2,  0.3,  0.4,  0.5,  0.6,  0.7,  0.8,  0.9,  1. ,  1.1,  1.2,\n",
              "        1.3,  1.4,  1.5,  1.6,  1.7,  1.8,  1.9,  2. ,  2.1,  2.2,  2.3,\n",
              "        2.4,  2.5,  2.6,  2.7,  2.8,  2.9,  3. ,  3.1,  3.2,  3.3,  3.4,\n",
              "        3.5,  3.6,  3.7,  3.8,  3.9,  4. ,  4.1,  4.2,  4.3,  4.4,  4.5,\n",
              "        4.6,  4.7,  4.8,  4.9,  5. ,  5.1,  5.2,  5.3,  5.4,  5.5,  5.6,\n",
              "        5.7,  5.8,  5.9,  6. ,  6.1,  6.2,  6.3,  6.4,  6.5,  6.6,  6.7,\n",
              "        6.8,  6.9,  7. ,  7.1,  7.2,  7.3,  7.4,  7.5,  7.6,  7.7,  7.8,\n",
              "        7.9,  8. ,  8.1,  8.2,  8.3,  8.4,  8.5,  8.6,  8.7,  8.8,  8.9,\n",
              "        9. ,  9.1,  9.2,  9.3,  9.4,  9.5,  9.6,  9.7,  9.8,  9.9, 10. ,\n",
              "       10.1, 10.2, 10.3, 10.4, 10.5, 10.6, 10.7, 10.8, 10.9, 11. , 11.1,\n",
              "       11.2, 11.3, 11.4, 11.5, 11.6, 11.7, 11.8, 11.9, 12. , 12.1, 12.2,\n",
              "       12.3, 12.4, 12.5, 12.6, 12.7, 12.8, 12.9, 13. , 13.1, 13.2, 13.3,\n",
              "       13.4, 13.5, 13.6, 13.7, 13.8, 13.9, 14. , 14.1, 14.2, 14.3, 14.4,\n",
              "       14.5, 14.6, 14.7, 14.8, 14.9, 15. , 15.1, 15.2, 15.3, 15.4, 15.5,\n",
              "       15.6, 15.7, 15.8, 15.9, 16. , 16.1, 16.2, 16.3, 16.4, 16.5, 16.6,\n",
              "       16.7, 16.8, 16.9, 17. , 17.1, 17.2, 17.3, 17.4, 17.5, 17.6, 17.7,\n",
              "       17.8, 17.9, 18. , 18.1, 18.2, 18.3, 18.4, 18.5, 18.6, 18.7, 18.8,\n",
              "       18.9, 19. , 19.1, 19.2, 19.3, 19.4, 19.5, 19.6, 19.7, 19.8, 19.9,\n",
              "       20. , 20.1, 20.2, 20.3, 20.4, 20.5, 20.6, 20.7, 20.8, 20.9, 21. ,\n",
              "       21.1, 21.2, 21.3, 21.4, 21.5, 21.6, 21.7, 21.8, 21.9, 22. , 22.1,\n",
              "       22.2, 22.3, 22.4, 22.5, 22.6, 22.7, 22.8, 22.9, 23. , 23.1, 23.2,\n",
              "       23.3, 23.4, 23.5, 23.6, 23.7, 23.8, 23.9, 24. , 24.1, 24.2, 24.3,\n",
              "       24.4, 24.5, 24.6, 24.7, 24.8, 24.9, 25. , 25.1, 25.2, 25.3, 25.4,\n",
              "       25.5, 25.6, 25.7, 25.8, 25.9, 26. , 26.1, 26.2, 26.3, 26.4, 26.5,\n",
              "       26.6, 26.7, 26.8, 26.9, 27. , 27.1, 27.2, 27.3, 27.4, 27.5, 27.6,\n",
              "       27.7, 27.8, 27.9, 28. , 28.1, 28.2, 28.3, 28.4, 28.5, 28.6, 28.7,\n",
              "       28.8, 28.9, 29. , 29.1, 29.2, 29.3, 29.4, 29.5, 29.6, 29.7, 29.8,\n",
              "       29.9, 30. , 30.1, 30.2, 30.3, 30.4, 30.5, 30.6, 30.7, 30.8, 30.9,\n",
              "       31. , 31.1, 31.2, 31.3, 31.4, 31.5, 31.6, 31.7, 31.8, 31.9, 32. ,\n",
              "       32.1, 32.2, 32.3, 32.4, 32.5, 32.6, 32.7, 32.8, 32.9, 33. , 33.1,\n",
              "       33.2, 33.3, 33.4, 33.5, 33.6, 33.7, 33.8, 33.9, 34. , 34.1, 34.2,\n",
              "       34.3, 34.4, 34.5, 34.6, 34.7, 34.8, 34.9, 35. , 35.1, 35.2, 35.3,\n",
              "       35.4, 35.5, 35.6, 35.7, 35.8, 35.9, 36. , 36.1, 36.2, 36.3, 36.4,\n",
              "       36.5, 36.6, 36.7, 36.8, 36.9, 37. , 37.1, 37.2, 37.3, 37.4, 37.5,\n",
              "       37.6, 37.7, 37.8, 37.9, 38. , 38.1, 38.2, 38.3, 38.4, 38.5, 38.6,\n",
              "       38.7, 38.8, 38.9, 39. , 39.1, 39.2, 39.3, 39.4, 39.5, 39.6, 39.7,\n",
              "       39.8, 39.9, 40. , 40.1, 40.2, 40.3, 40.4, 40.5, 40.6, 40.7, 40.8,\n",
              "       40.9, 41. , 41.1, 41.2, 41.3, 41.4, 41.5, 41.6, 41.7, 41.8, 41.9,\n",
              "       42. , 42.1, 42.2, 42.3, 42.4, 42.5, 42.6, 42.7, 42.8, 42.9, 43. ,\n",
              "       43.1, 43.2, 43.3, 43.4, 43.5, 43.6, 43.7, 43.8, 43.9, 44. , 44.1,\n",
              "       44.2, 44.3, 44.4, 44.5, 44.6, 44.7, 44.8, 44.9, 45. , 45.1, 45.2,\n",
              "       45.3, 45.4, 45.5, 45.6, 45.7, 45.8, 45.9, 46. , 46.1, 46.2, 46.3,\n",
              "       46.4, 46.5, 46.6, 46.7, 46.8, 46.9, 47. , 47.1, 47.2, 47.3, 47.4,\n",
              "       47.5, 47.6, 47.7, 47.8, 47.9, 48. , 48.1, 48.2, 48.3, 48.4, 48.5,\n",
              "       48.6, 48.7, 48.8, 48.9, 49. , 49.1, 49.2, 49.3, 49.4, 49.5, 49.6,\n",
              "       49.7, 49.8, 49.9])"
            ]
          },
          "metadata": {},
          "execution_count": 95
        }
      ]
    },
    {
      "cell_type": "code",
      "source": [
        "Numerator = np.exp(Data)"
      ],
      "metadata": {
        "id": "OsRzwPQ95Gax"
      },
      "execution_count": 96,
      "outputs": []
    },
    {
      "cell_type": "code",
      "source": [
        "Numerator"
      ],
      "metadata": {
        "colab": {
          "base_uri": "https://localhost:8080/"
        },
        "id": "5jH1KoYr8egU",
        "outputId": "71aecfdc-7f00-49b6-8482-1e8b5eece595"
      },
      "execution_count": 97,
      "outputs": [
        {
          "output_type": "execute_result",
          "data": {
            "text/plain": [
              "array([1.35335283e-01, 1.49568619e-01, 1.65298888e-01, 1.82683524e-01,\n",
              "       2.01896518e-01, 2.23130160e-01, 2.46596964e-01, 2.72531793e-01,\n",
              "       3.01194212e-01, 3.32871084e-01, 3.67879441e-01, 4.06569660e-01,\n",
              "       4.49328964e-01, 4.96585304e-01, 5.48811636e-01, 6.06530660e-01,\n",
              "       6.70320046e-01, 7.40818221e-01, 8.18730753e-01, 9.04837418e-01,\n",
              "       1.00000000e+00, 1.10517092e+00, 1.22140276e+00, 1.34985881e+00,\n",
              "       1.49182470e+00, 1.64872127e+00, 1.82211880e+00, 2.01375271e+00,\n",
              "       2.22554093e+00, 2.45960311e+00, 2.71828183e+00, 3.00416602e+00,\n",
              "       3.32011692e+00, 3.66929667e+00, 4.05519997e+00, 4.48168907e+00,\n",
              "       4.95303242e+00, 5.47394739e+00, 6.04964746e+00, 6.68589444e+00,\n",
              "       7.38905610e+00, 8.16616991e+00, 9.02501350e+00, 9.97418245e+00,\n",
              "       1.10231764e+01, 1.21824940e+01, 1.34637380e+01, 1.48797317e+01,\n",
              "       1.64446468e+01, 1.81741454e+01, 2.00855369e+01, 2.21979513e+01,\n",
              "       2.45325302e+01, 2.71126389e+01, 2.99641000e+01, 3.31154520e+01,\n",
              "       3.65982344e+01, 4.04473044e+01, 4.47011845e+01, 4.94024491e+01,\n",
              "       5.45981500e+01, 6.03402876e+01, 6.66863310e+01, 7.36997937e+01,\n",
              "       8.14508687e+01, 9.00171313e+01, 9.94843156e+01, 1.09947172e+02,\n",
              "       1.21510418e+02, 1.34289780e+02, 1.48413159e+02, 1.64021907e+02,\n",
              "       1.81272242e+02, 2.00336810e+02, 2.21406416e+02, 2.44691932e+02,\n",
              "       2.70426407e+02, 2.98867401e+02, 3.30299560e+02, 3.65037468e+02,\n",
              "       4.03428793e+02, 4.45857770e+02, 4.92749041e+02, 5.44571910e+02,\n",
              "       6.01845038e+02, 6.65141633e+02, 7.35095189e+02, 8.12405825e+02,\n",
              "       8.97847292e+02, 9.92274716e+02, 1.09663316e+03, 1.21196707e+03,\n",
              "       1.33943076e+03, 1.48029993e+03, 1.63598443e+03, 1.80804241e+03,\n",
              "       1.99819590e+03, 2.20834799e+03, 2.44060198e+03, 2.69728233e+03,\n",
              "       2.98095799e+03, 3.29446808e+03, 3.64095031e+03, 4.02387239e+03,\n",
              "       4.44706675e+03, 4.91476884e+03, 5.43165959e+03, 6.00291222e+03,\n",
              "       6.63424401e+03, 7.33197354e+03, 8.10308393e+03, 8.95529270e+03,\n",
              "       9.89712906e+03, 1.09380192e+04, 1.20883807e+04, 1.33597268e+04,\n",
              "       1.47647816e+04, 1.63176072e+04, 1.80337449e+04, 1.99303704e+04,\n",
              "       2.20264658e+04, 2.43430094e+04, 2.69031861e+04, 2.97326189e+04,\n",
              "       3.28596257e+04, 3.63155027e+04, 4.01348374e+04, 4.43558551e+04,\n",
              "       4.90208011e+04, 5.41763638e+04, 5.98741417e+04, 6.61711602e+04,\n",
              "       7.31304418e+04, 8.08216375e+04, 8.93217234e+04, 9.87157710e+04,\n",
              "       1.09097799e+05, 1.20571715e+05, 1.33252353e+05, 1.47266625e+05,\n",
              "       1.62754791e+05, 1.79871862e+05, 1.98789151e+05, 2.19695989e+05,\n",
              "       2.42801617e+05, 2.68337287e+05, 2.96558565e+05, 3.27747902e+05,\n",
              "       3.62217450e+05, 4.00312191e+05, 4.42413392e+05, 4.88942415e+05,\n",
              "       5.40364937e+05, 5.97195614e+05, 6.60003225e+05, 7.29416370e+05,\n",
              "       8.06129759e+05, 8.90911166e+05, 9.84609111e+05, 1.08816136e+06,\n",
              "       1.20260428e+06, 1.32908328e+06, 1.46886419e+06, 1.62334599e+06,\n",
              "       1.79407477e+06, 1.98275926e+06, 2.19128788e+06, 2.42174763e+06,\n",
              "       2.67644506e+06, 2.95792924e+06, 3.26901737e+06, 3.61282293e+06,\n",
              "       3.99278684e+06, 4.41271189e+06, 4.87680085e+06, 5.38969848e+06,\n",
              "       5.95653801e+06, 6.58299258e+06, 7.27533196e+06, 8.04048530e+06,\n",
              "       8.88611052e+06, 9.82067092e+06, 1.08535199e+07, 1.19949946e+07,\n",
              "       1.32565191e+07, 1.46507194e+07, 1.61915490e+07, 1.78944291e+07,\n",
              "       1.97764027e+07, 2.18563051e+07, 2.41549528e+07, 2.66953513e+07,\n",
              "       2.95029259e+07, 3.26057757e+07, 3.60349551e+07, 3.98247844e+07,\n",
              "       4.40131935e+07, 4.86421015e+07, 5.37578360e+07, 5.94115969e+07,\n",
              "       6.56599691e+07, 7.25654884e+07, 8.01972674e+07, 8.86316876e+07,\n",
              "       9.79531636e+07, 1.08254988e+08, 1.19640264e+08, 1.32222941e+08,\n",
              "       1.46128949e+08, 1.61497464e+08, 1.78482301e+08, 1.97253448e+08,\n",
              "       2.17998775e+08, 2.40925906e+08, 2.66264305e+08, 2.94267566e+08,\n",
              "       3.25215956e+08, 3.59419217e+08, 3.97219666e+08, 4.38995623e+08,\n",
              "       4.85165195e+08, 5.36190464e+08, 5.92582108e+08, 6.54904512e+08,\n",
              "       7.23781421e+08, 7.99902177e+08, 8.84028624e+08, 9.77002726e+08,\n",
              "       1.07975500e+09, 1.19331382e+09, 1.31881573e+09, 1.45751680e+09,\n",
              "       1.61080518e+09, 1.78021503e+09, 1.96744188e+09, 2.17435955e+09,\n",
              "       2.40303894e+09, 2.65576876e+09, 2.93507839e+09, 3.24376328e+09,\n",
              "       3.58491285e+09, 3.96194142e+09, 4.37862244e+09, 4.83912618e+09,\n",
              "       5.34806152e+09, 5.91052206e+09, 6.53213709e+09, 7.21912795e+09,\n",
              "       7.97837026e+09, 8.81746279e+09, 9.74480345e+09, 1.07696734e+10,\n",
              "       1.19023298e+10, 1.31541088e+10, 1.45375385e+10, 1.60664647e+10,\n",
              "       1.77561896e+10, 1.96236243e+10, 2.16874589e+10, 2.39683489e+10,\n",
              "       2.64891221e+10, 2.92750074e+10, 3.23538868e+10, 3.57565748e+10,\n",
              "       3.95171266e+10, 4.36731791e+10, 4.82663274e+10, 5.33425414e+10,\n",
              "       5.89526255e+10, 6.51527272e+10, 7.20048993e+10, 7.95777207e+10,\n",
              "       8.79469827e+10, 9.71964476e+10, 1.07418687e+11, 1.18716009e+11,\n",
              "       1.31201481e+11, 1.45000061e+11, 1.60249851e+11, 1.77103474e+11,\n",
              "       1.95729609e+11, 2.16314672e+11, 2.39064685e+11, 2.64207337e+11,\n",
              "       2.91994265e+11, 3.22703570e+11, 3.56642601e+11, 3.94151031e+11,\n",
              "       4.35604257e+11, 4.81417156e+11, 5.32048241e+11, 5.88004243e+11,\n",
              "       6.49845189e+11, 7.18190004e+11, 7.93722706e+11, 8.77199251e+11,\n",
              "       9.69455102e+11, 1.07141359e+12, 1.18409514e+12, 1.30862751e+12,\n",
              "       1.44625706e+12, 1.59836125e+12, 1.76646237e+12, 1.95224284e+12,\n",
              "       2.15756201e+12, 2.38447478e+12, 2.63525219e+12, 2.91240408e+12,\n",
              "       3.21870429e+12, 3.55721837e+12, 3.93133430e+12, 4.34479633e+12,\n",
              "       4.80174255e+12, 5.30674623e+12, 5.86486160e+12, 6.48167448e+12,\n",
              "       7.16335813e+12, 7.91673508e+12, 8.74934538e+12, 9.66952207e+12,\n",
              "       1.06864746e+13, 1.18103809e+13, 1.30524895e+13, 1.44252318e+13,\n",
              "       1.59423467e+13, 1.76190180e+13, 1.94720262e+13, 2.15199171e+13,\n",
              "       2.37831866e+13, 2.62844861e+13, 2.90488497e+13, 3.21039439e+13,\n",
              "       3.54803451e+13, 3.92118456e+13, 4.33357914e+13, 4.78934563e+13,\n",
              "       5.29304551e+13, 5.84971997e+13, 6.46494039e+13, 7.14486410e+13,\n",
              "       7.89629602e+13, 8.72675672e+13, 9.64455774e+13, 1.06588847e+14,\n",
              "       1.17798894e+14, 1.30187912e+14, 1.43879894e+14, 1.59011875e+14,\n",
              "       1.75735300e+14, 1.94217543e+14, 2.14643580e+14, 2.37217842e+14,\n",
              "       2.62166260e+14, 2.89738527e+14, 3.20210594e+14, 3.53887436e+14,\n",
              "       3.91106102e+14, 4.32239090e+14, 4.77698072e+14, 5.27938017e+14,\n",
              "       5.83461743e+14, 6.44824950e+14, 7.12641782e+14, 7.87590972e+14,\n",
              "       8.70422638e+14, 9.61965786e+14, 1.06313661e+15, 1.17494766e+15,\n",
              "       1.29851799e+15, 1.43508432e+15, 1.58601345e+15, 1.75281594e+15,\n",
              "       1.93716121e+15, 2.14089423e+15, 2.36605404e+15, 2.61489411e+15,\n",
              "       2.88990493e+15, 3.19383888e+15, 3.52973785e+15, 3.90096362e+15,\n",
              "       4.31123155e+15, 4.76464773e+15, 5.26575010e+15, 5.81955388e+15,\n",
              "       6.43160170e+15, 7.10801915e+15, 7.85557605e+15, 8.68175420e+15,\n",
              "       9.59482226e+15, 1.06039185e+16, 1.17191424e+16, 1.29516553e+16,\n",
              "       1.43137928e+16, 1.58191875e+16, 1.74829060e+16, 1.93215993e+16,\n",
              "       2.13536696e+16, 2.35994547e+16, 2.60814310e+16, 2.88244390e+16,\n",
              "       3.18559318e+16, 3.52062493e+16, 3.89089229e+16, 4.30010101e+16,\n",
              "       4.75234658e+16, 5.25215523e+16, 5.80452922e+16, 6.41499688e+16,\n",
              "       7.08966799e+16, 7.83529489e+16, 8.65934004e+16, 9.57005078e+16,\n",
              "       1.05765418e+17, 1.16888864e+17, 1.29182173e+17, 1.42768381e+17,\n",
              "       1.57783463e+17, 1.74377695e+17, 1.92717157e+17, 2.12985397e+17,\n",
              "       2.35385267e+17, 2.60140951e+17, 2.87500214e+17, 3.17736876e+17,\n",
              "       3.51153555e+17, 3.88084696e+17, 4.28899920e+17, 4.74007718e+17,\n",
              "       5.23859545e+17, 5.78954335e+17, 6.39843494e+17, 7.07136421e+17,\n",
              "       7.81506608e+17, 8.63698375e+17, 9.54534326e+17, 1.05492358e+18,\n",
              "       1.16587086e+18, 1.28848657e+18, 1.42399788e+18, 1.57376105e+18,\n",
              "       1.73927494e+18, 1.92219608e+18, 2.12435521e+18, 2.34777560e+18,\n",
              "       2.59469331e+18, 2.86757959e+18, 3.16916557e+18, 3.50246962e+18,\n",
              "       3.87082757e+18, 4.27792606e+18, 4.72783947e+18, 5.22507069e+18,\n",
              "       5.77459617e+18, 6.38191575e+18, 7.05310769e+18, 7.79488950e+18,\n",
              "       8.61468518e+18, 9.52069953e+18, 1.05220002e+19, 1.16286087e+19,\n",
              "       1.28516001e+19, 1.42032147e+19, 1.56969798e+19, 1.73478456e+19,\n",
              "       1.91723345e+19, 2.11887065e+19, 2.34171422e+19, 2.58799445e+19,\n",
              "       2.86017621e+19, 3.16098356e+19, 3.49342711e+19, 3.86083404e+19,\n",
              "       4.26688150e+19, 4.71563335e+19, 5.21158084e+19, 5.75968758e+19,\n",
              "       6.36543921e+19, 7.03489829e+19, 7.77476500e+19, 8.59244418e+19,\n",
              "       9.49611942e+19, 1.04948350e+20, 1.15985865e+20, 1.28184204e+20,\n",
              "       1.41665455e+20, 1.56564541e+20, 1.73030577e+20, 1.91228362e+20,\n",
              "       2.11340024e+20, 2.33566849e+20, 2.58131289e+20, 2.85279193e+20,\n",
              "       3.15282268e+20, 3.48440793e+20, 3.85086632e+20, 4.25586546e+20,\n",
              "       4.70345874e+20, 5.19812581e+20, 5.74481748e+20, 6.34900521e+20,\n",
              "       7.01673591e+20, 7.75469247e+20, 8.57026060e+20, 9.47160277e+20,\n",
              "       1.04677399e+21, 1.15686417e+21, 1.27853264e+21, 1.41299709e+21,\n",
              "       1.56160330e+21, 1.72583855e+21, 1.90734657e+21, 2.10794396e+21,\n",
              "       2.32963836e+21, 2.57464857e+21, 2.84542672e+21, 3.14468286e+21,\n",
              "       3.47541205e+21, 3.84092432e+21, 4.24487786e+21, 4.69131556e+21])"
            ]
          },
          "metadata": {},
          "execution_count": 97
        }
      ]
    },
    {
      "cell_type": "code",
      "source": [
        "Denominator = np.sum(np.exp(Data))"
      ],
      "metadata": {
        "id": "heTbBE_m5H7c"
      },
      "execution_count": 98,
      "outputs": []
    },
    {
      "cell_type": "code",
      "source": [
        "Denominator\n"
      ],
      "metadata": {
        "colab": {
          "base_uri": "https://localhost:8080/"
        },
        "id": "X2PGewn98mOa",
        "outputId": "e5cfac82-08a2-4c23-cb74-97bd22db0c45"
      },
      "execution_count": 99,
      "outputs": [
        {
          "output_type": "execute_result",
          "data": {
            "text/plain": [
              "4.929790120171851e+22"
            ]
          },
          "metadata": {},
          "execution_count": 99
        }
      ]
    },
    {
      "cell_type": "code",
      "source": [
        "softmax_output = Numerator/Denominator\n"
      ],
      "metadata": {
        "id": "_WJDoxQR5LJZ"
      },
      "execution_count": 100,
      "outputs": []
    },
    {
      "cell_type": "code",
      "source": [
        "print(softmax_output)"
      ],
      "metadata": {
        "colab": {
          "base_uri": "https://localhost:8080/"
        },
        "id": "vdnXz1nW8sd6",
        "outputId": "0efa9fff-9f3c-4e17-fee3-6d6e543ddb32"
      },
      "execution_count": 101,
      "outputs": [
        {
          "output_type": "stream",
          "name": "stdout",
          "text": [
            "[0.         0.         0.         0.         0.         0.\n",
            " 0.         0.         0.         0.         0.         0.\n",
            " 0.         0.         0.         0.         0.         0.\n",
            " 0.         0.         0.         0.         0.         0.\n",
            " 0.         0.         0.         0.         0.         0.\n",
            " 0.         0.         0.         0.         0.         0.\n",
            " 0.         0.         0.         0.         0.         0.\n",
            " 0.         0.         0.         0.         0.         0.\n",
            " 0.         0.         0.         0.         0.         0.\n",
            " 0.         0.         0.         0.         0.         0.\n",
            " 0.         0.         0.         0.         0.         0.\n",
            " 0.         0.         0.         0.         0.         0.\n",
            " 0.         0.         0.         0.         0.         0.\n",
            " 0.         0.         0.         0.         0.         0.\n",
            " 0.         0.         0.         0.         0.         0.\n",
            " 0.         0.         0.         0.         0.         0.\n",
            " 0.         0.         0.         0.         0.         0.\n",
            " 0.         0.         0.         0.         0.         0.\n",
            " 0.         0.         0.         0.         0.         0.\n",
            " 0.         0.         0.         0.         0.         0.\n",
            " 0.         0.         0.         0.         0.         0.\n",
            " 0.         0.         0.         0.         0.         0.\n",
            " 0.         0.         0.         0.         0.         0.\n",
            " 0.         0.         0.         0.         0.         0.\n",
            " 0.         0.         0.         0.         0.         0.\n",
            " 0.         0.         0.         0.         0.         0.\n",
            " 0.         0.         0.         0.         0.         0.\n",
            " 0.         0.         0.         0.         0.         0.\n",
            " 0.         0.         0.         0.         0.         0.\n",
            " 0.         0.         0.         0.         0.         0.\n",
            " 0.         0.         0.         0.         0.         0.\n",
            " 0.         0.         0.         0.         0.         0.\n",
            " 0.         0.         0.         0.         0.         0.\n",
            " 0.         0.         0.         0.         0.         0.\n",
            " 0.         0.         0.         0.         0.         0.\n",
            " 0.         0.         0.         0.         0.         0.\n",
            " 0.         0.         0.         0.         0.         0.\n",
            " 0.         0.         0.         0.         0.         0.\n",
            " 0.         0.         0.         0.         0.         0.\n",
            " 0.         0.         0.         0.         0.         0.\n",
            " 0.         0.         0.         0.         0.         0.\n",
            " 0.         0.         0.         0.         0.         0.\n",
            " 0.         0.         0.         0.         0.         0.\n",
            " 0.         0.         0.         0.         0.         0.\n",
            " 0.         0.         0.         0.         0.         0.\n",
            " 0.         0.         0.         0.         0.         0.\n",
            " 0.         0.         0.         0.         0.         0.\n",
            " 0.         0.         0.         0.         0.         0.\n",
            " 0.         0.         0.         0.         0.         0.\n",
            " 0.         0.         0.         0.         0.         0.\n",
            " 0.         0.         0.         0.         0.         0.\n",
            " 0.         0.         0.         0.         0.         0.\n",
            " 0.         0.         0.         0.         0.         0.\n",
            " 0.         0.         0.         0.         0.         0.\n",
            " 0.         0.         0.         0.         0.         0.\n",
            " 0.         0.         0.         0.         0.         0.\n",
            " 0.         0.         0.         0.         0.         0.\n",
            " 0.         0.         0.         0.         0.         0.\n",
            " 0.         0.         0.         0.         0.00000001 0.00000001\n",
            " 0.00000001 0.00000001 0.00000001 0.00000001 0.00000001 0.00000001\n",
            " 0.00000001 0.00000001 0.00000001 0.00000002 0.00000002 0.00000002\n",
            " 0.00000002 0.00000002 0.00000003 0.00000003 0.00000003 0.00000004\n",
            " 0.00000004 0.00000004 0.00000005 0.00000005 0.00000006 0.00000006\n",
            " 0.00000007 0.00000008 0.00000009 0.0000001  0.00000011 0.00000012\n",
            " 0.00000013 0.00000014 0.00000016 0.00000018 0.00000019 0.00000022\n",
            " 0.00000024 0.00000026 0.00000029 0.00000032 0.00000035 0.00000039\n",
            " 0.00000043 0.00000048 0.00000053 0.00000058 0.00000065 0.00000071\n",
            " 0.00000079 0.00000087 0.00000096 0.00000107 0.00000118 0.0000013\n",
            " 0.00000144 0.00000159 0.00000176 0.00000194 0.00000215 0.00000237\n",
            " 0.00000262 0.0000029  0.0000032  0.00000354 0.00000391 0.00000432\n",
            " 0.00000477 0.00000528 0.00000583 0.00000645 0.00000712 0.00000787\n",
            " 0.0000087  0.00000962 0.00001063 0.00001174 0.00001298 0.00001434\n",
            " 0.00001585 0.00001752 0.00001936 0.0000214  0.00002365 0.00002614\n",
            " 0.00002889 0.00003192 0.00003528 0.00003899 0.00004309 0.00004762\n",
            " 0.00005263 0.00005817 0.00006429 0.00007105 0.00007852 0.00008678\n",
            " 0.0000959  0.00010599 0.00011714 0.00012946 0.00014307 0.00015812\n",
            " 0.00017475 0.00019313 0.00021344 0.00023588 0.00026069 0.00028811\n",
            " 0.00031841 0.0003519  0.00038891 0.00042981 0.00047501 0.00052497\n",
            " 0.00058018 0.0006412  0.00070864 0.00078316 0.00086553 0.00095656\n",
            " 0.00105716 0.00116834 0.00129122 0.00142702 0.0015771  0.00174296\n",
            " 0.00192627 0.00212886 0.00235275 0.0026002  0.00287366 0.00317589\n",
            " 0.0035099  0.00387904 0.004287   0.00473787 0.00523615 0.00578684\n",
            " 0.00639545 0.00706807 0.00781142 0.00863295 0.00954089 0.01054431\n",
            " 0.01165327 0.01287885 0.01423334 0.01573027 0.01738464 0.01921299\n",
            " 0.02123364 0.0234668  0.02593483 0.02866242 0.03167687 0.03500836\n",
            " 0.03869022 0.0427593  0.04725634 0.05222633 0.05771902 0.06378939\n",
            " 0.07049817 0.07791253 0.08610666 0.09516258]\n"
          ]
        }
      ]
    },
    {
      "cell_type": "code",
      "source": [
        "np.argmax(softmax_output)"
      ],
      "metadata": {
        "id": "M1bmKIOG5OHi",
        "outputId": "9ec96e14-397b-4842-9749-c7820d8ba269",
        "colab": {
          "base_uri": "https://localhost:8080/"
        }
      },
      "execution_count": 102,
      "outputs": [
        {
          "output_type": "execute_result",
          "data": {
            "text/plain": [
              "519"
            ]
          },
          "metadata": {},
          "execution_count": 102
        }
      ]
    },
    {
      "cell_type": "code",
      "source": [
        "def visualization(function, yaxis = (-2.0, 2.0)):\n",
        "    ylim = (yaxis)\n",
        "    plt.locator_params(nbins = 8)\n",
        "    plt.xticks(fontsize = 14)\n",
        "    plt.yticks(fontsize = 14)\n",
        "    plt.axhline(lw = 1, c = 'black')\n",
        "    plt.axvline(lw = 1, c = 'black')\n",
        "    plt.grid(alpha = 0.4, ls = '-.')\n",
        "    plt.box(on = None)\n",
        "    plt.plot(Data, function(Data),c='r', lw = 6)\n",
        "    plt.show()"
      ],
      "metadata": {
        "id": "ugcKcFWp7ZIT"
      },
      "execution_count": 103,
      "outputs": []
    },
    {
      "cell_type": "code",
      "source": [
        "visualization(Data,yaxis = (-5.0, 3.0))"
      ],
      "metadata": {
        "colab": {
          "base_uri": "https://localhost:8080/",
          "height": 522
        },
        "id": "XYs4Y2kb7xdL",
        "outputId": "a647b7c7-d8d3-4227-beaf-c9c7a34e154f"
      },
      "execution_count": 111,
      "outputs": [
        {
          "output_type": "error",
          "ename": "TypeError",
          "evalue": "ignored",
          "traceback": [
            "\u001b[0;31m---------------------------------------------------------------------------\u001b[0m",
            "\u001b[0;31mTypeError\u001b[0m                                 Traceback (most recent call last)",
            "\u001b[0;32m<ipython-input-111-e07d786dd2ee>\u001b[0m in \u001b[0;36m<module>\u001b[0;34m()\u001b[0m\n\u001b[0;32m----> 1\u001b[0;31m \u001b[0mvisualization\u001b[0m\u001b[0;34m(\u001b[0m\u001b[0mData\u001b[0m\u001b[0;34m,\u001b[0m\u001b[0myaxis\u001b[0m \u001b[0;34m=\u001b[0m \u001b[0;34m(\u001b[0m\u001b[0;34m-\u001b[0m\u001b[0;36m5.0\u001b[0m\u001b[0;34m,\u001b[0m \u001b[0;36m3.0\u001b[0m\u001b[0;34m)\u001b[0m\u001b[0;34m)\u001b[0m\u001b[0;34m\u001b[0m\u001b[0;34m\u001b[0m\u001b[0m\n\u001b[0m",
            "\u001b[0;32m<ipython-input-103-81fc271606a9>\u001b[0m in \u001b[0;36mvisualization\u001b[0;34m(function, yaxis)\u001b[0m\n\u001b[1;32m      8\u001b[0m     \u001b[0mplt\u001b[0m\u001b[0;34m.\u001b[0m\u001b[0mgrid\u001b[0m\u001b[0;34m(\u001b[0m\u001b[0malpha\u001b[0m \u001b[0;34m=\u001b[0m \u001b[0;36m0.4\u001b[0m\u001b[0;34m,\u001b[0m \u001b[0mls\u001b[0m \u001b[0;34m=\u001b[0m \u001b[0;34m'-.'\u001b[0m\u001b[0;34m)\u001b[0m\u001b[0;34m\u001b[0m\u001b[0;34m\u001b[0m\u001b[0m\n\u001b[1;32m      9\u001b[0m     \u001b[0mplt\u001b[0m\u001b[0;34m.\u001b[0m\u001b[0mbox\u001b[0m\u001b[0;34m(\u001b[0m\u001b[0mon\u001b[0m \u001b[0;34m=\u001b[0m \u001b[0;32mNone\u001b[0m\u001b[0;34m)\u001b[0m\u001b[0;34m\u001b[0m\u001b[0;34m\u001b[0m\u001b[0m\n\u001b[0;32m---> 10\u001b[0;31m     \u001b[0mplt\u001b[0m\u001b[0;34m.\u001b[0m\u001b[0mplot\u001b[0m\u001b[0;34m(\u001b[0m\u001b[0mData\u001b[0m\u001b[0;34m,\u001b[0m \u001b[0mfunction\u001b[0m\u001b[0;34m(\u001b[0m\u001b[0mData\u001b[0m\u001b[0;34m)\u001b[0m\u001b[0;34m,\u001b[0m\u001b[0mc\u001b[0m\u001b[0;34m=\u001b[0m\u001b[0;34m'r'\u001b[0m\u001b[0;34m,\u001b[0m \u001b[0mlw\u001b[0m \u001b[0;34m=\u001b[0m \u001b[0;36m6\u001b[0m\u001b[0;34m)\u001b[0m\u001b[0;34m\u001b[0m\u001b[0;34m\u001b[0m\u001b[0m\n\u001b[0m\u001b[1;32m     11\u001b[0m     \u001b[0mplt\u001b[0m\u001b[0;34m.\u001b[0m\u001b[0mshow\u001b[0m\u001b[0;34m(\u001b[0m\u001b[0;34m)\u001b[0m\u001b[0;34m\u001b[0m\u001b[0;34m\u001b[0m\u001b[0m\n",
            "\u001b[0;31mTypeError\u001b[0m: 'numpy.ndarray' object is not callable"
          ]
        },
        {
          "output_type": "display_data",
          "data": {
            "image/png": "[encoded data removed]",
            "text/plain": [
              "<Figure size 432x288 with 1 Axes>"
            ]
          },
          "metadata": {
            "needs_background": "light"
          }
        }
      ]
    }
  ]
}